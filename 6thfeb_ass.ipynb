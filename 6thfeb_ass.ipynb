{
 "cells": [
  {
   "cell_type": "markdown",
   "id": "74ac5ff7-ee5e-431e-a298-9f13580ce489",
   "metadata": {},
   "source": [
    "Q1. Create a function which will take a list as an argument and return the product of all the numbers\n",
    "after creating a flat list.\n",
    "Use the below-given list as an argument for your function.\n",
    "list1 = [1,2,3,4, [44,55,66, True], False, (34,56,78,89,34), {1,2,3,3,2,1}, {1:34, \"key2\": [55, 67, 78, 89], 4: (45,\n",
    "22, 61, 34)}, [56, 'data science'], 'Machine Learning']\n",
    "Note: you must extract numeric keys and values of the dictionary also."
   ]
  },
  {
   "cell_type": "code",
   "execution_count": 1,
   "id": "f7af7c6a-bffc-4497-bac4-5785818983ab",
   "metadata": {},
   "outputs": [
    {
     "data": {
      "text/plain": [
       "4134711838987085478833841242112000"
      ]
     },
     "execution_count": 1,
     "metadata": {},
     "output_type": "execute_result"
    }
   ],
   "source": [
    "# input list\n",
    "l = [1, 2, [3, 4, [5, 6]], 7, 8, [9, [10]]]\n",
    "list2 = [1,2,3,4, [44,55,66, True], False, (34,56,78,89,34), {1,2,3,3,2,1}, {1:34, \"key2\": [55, 67, 78, 89], 4: (45,\n",
    "22, 61, 34)}, [56, 'data science'], 'Machine Learning']\n",
    " \n",
    "# output list\n",
    "output = []\n",
    " \n",
    "# function used for removing nested\n",
    "# lists in python using recursion\n",
    "def reemovNestings(l):\n",
    "    for i in l:\n",
    "        if (type(i) == list)|(type(i) == tuple)|(type(i) == set):\n",
    "            for j in i:\n",
    "                output.append(str(j))\n",
    "        elif (type(i)==dict):\n",
    "            for key in i:\n",
    "                output.append(str(key))\n",
    "                if type(i[key])==list or type(i[key])==tuple:\n",
    "                   for x in i[key]:\n",
    "                       output.append(str(x))\n",
    "                else:\n",
    "                   output.append(str(i[key]))\n",
    "            \n",
    "        else:\n",
    "            output.append(str(i))\n",
    "    ans=1\n",
    "    for i in output:\n",
    "        if i.isdigit():\n",
    "            ans*=int(i)\n",
    "    return ans\n",
    "reemovNestings(list2)\n"
   ]
  },
  {
   "cell_type": "markdown",
   "id": "abf3e46e-fd2f-409f-8ad9-f1cbc2592be2",
   "metadata": {},
   "source": [
    "Q2. Write a python program for encrypting a message sent to you by your friend. The logic of encryption\n",
    "should be such that, for a the output should be z. For b, the output should be y. For c, the output should\n",
    "be x respectively. Also, the whitespace should be replaced with a dollar sign. Keep the punctuation\n",
    "marks unchanged.\n",
    "Input Sentence: I want to become a Data Scientist.\n",
    "Encrypt the above input sentence using the program you just created.\n",
    "Note: Convert the given input sentence into lowercase before encrypting. The final output should be\n",
    "lowercase."
   ]
  },
  {
   "cell_type": "code",
   "execution_count": 34,
   "id": "5ea05830-d500-47aa-8dff-6510ae3e23fe",
   "metadata": {},
   "outputs": [],
   "source": [
    "def encrypt_msg(message):\n",
    "    message = message.lower()\n",
    "    encryption_dict = {\n",
    "        'a': 'z', 'b': 'y', 'c': 'x', 'd': 'w', 'e': 'v', 'f': 'u', 'g': 't', 'h': 's', 'i': 'r', 'j': 'q', 'k': 'p', 'l': 'o', 'm': 'n', 'n': 'm', 'o': 'l', 'p': 'k', 'q': 'j', 'r': 'i', 's': 'h', 't': 'g', 'u': 'f', 'v': 'e', 'w': 'd', 'x': 'c', 'y': 'b', 'z': 'a',\n",
    "        ' ': '$'\n",
    "    }\n",
    "    encrypted_message = ''\n",
    "    for char in message:\n",
    "        if char in encryption_dict:\n",
    "            encrypted_message += encryption_dict[char]\n",
    "        else:\n",
    "            encrypted_message += char\n",
    "    return encrypted_message\n"
   ]
  },
  {
   "cell_type": "code",
   "execution_count": 35,
   "id": "3af95607-174a-4b05-9b2a-b7b884657879",
   "metadata": {},
   "outputs": [
    {
     "data": {
      "text/plain": [
       "'r$dzmg$gl$yvxlnv$z$wzgz$hxrvmgrhg'"
      ]
     },
     "execution_count": 35,
     "metadata": {},
     "output_type": "execute_result"
    }
   ],
   "source": [
    "encrypt_msg('I want to become a Data Scientist')"
   ]
  },
  {
   "cell_type": "code",
   "execution_count": null,
   "id": "697f0528-ef97-4d9d-be6f-7c80d5ad7808",
   "metadata": {},
   "outputs": [],
   "source": []
  }
 ],
 "metadata": {
  "kernelspec": {
   "display_name": "Python 3 (ipykernel)",
   "language": "python",
   "name": "python3"
  },
  "language_info": {
   "codemirror_mode": {
    "name": "ipython",
    "version": 3
   },
   "file_extension": ".py",
   "mimetype": "text/x-python",
   "name": "python",
   "nbconvert_exporter": "python",
   "pygments_lexer": "ipython3",
   "version": "3.10.8"
  }
 },
 "nbformat": 4,
 "nbformat_minor": 5
}
