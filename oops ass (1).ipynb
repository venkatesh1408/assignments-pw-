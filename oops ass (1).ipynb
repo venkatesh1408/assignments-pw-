{
 "cells": [
  {
   "cell_type": "markdown",
   "id": "4504754a-c54c-43c5-b278-b585dfdda45d",
   "metadata": {},
   "source": [
    "Q1. Explain Class and Object with respect to Object-Oriented Programming. Give a suitable example.\n"
   ]
  },
  {
   "cell_type": "markdown",
   "id": "4a46bdd1-2178-4356-a438-783612859232",
   "metadata": {},
   "source": [
    "Python is a versatile programming language that supports various programming styles, including object-oriented programming (OOP) through the use of objects and classes.\n",
    "\n",
    "An object is any entity that has attributes and behaviors. For example, a parrot is an object. It has\n",
    "\n",
    "attributes - name, age, color, etc.\n",
    "behavior - dancing, singing, etc.\n",
    "Similarly, a class is a blueprint for that object.\n",
    "\n",
    "Python Class and Object\n",
    "class Parrot:\n",
    "\n",
    "    # class attribute\n",
    "    name = \"\"\n",
    "    age = 0\n",
    "\n",
    "# create parrot1 object\n",
    "parrot1 = Parrot()\n",
    "parrot1.name = \"Blu\"\n",
    "parrot1.age = 10\n",
    "\n",
    "# create another object parrot2\n",
    "parrot2 = Parrot()\n",
    "parrot2.name = \"Woo\"\n",
    "parrot2.age = 15\n",
    "\n",
    "# access attributes\n",
    "print(f\"{parrot1.name} is {parrot1.age} years old\")\n",
    "print(f\"{parrot2.name} is {parrot2.age} years old\")\n",
    "Run Code\n",
    "Output\n",
    "\n",
    "Blu is 10 years old\n",
    "Woo is 15 years old\n",
    "In the above example, we created a class with the name Parrot with two attributes: name and age.\n",
    "\n",
    "Then, we create instances of the Parrot class. Here, parrot1 and parrot2 are references (value) to our new objects.\n",
    "\n",
    "We then accessed and assigned different values to the instance attributes using the objects name and the . notation.\n",
    "\n",
    "\n",
    "summarry: class is a blueprint and object uses it in real life \n",
    "for example car is a class then toyato ,bmw etc are objects"
   ]
  },
  {
   "cell_type": "markdown",
   "id": "33eab6de-5f07-40c9-80e4-231b470c2074",
   "metadata": {},
   "source": [
    "Q2. Name the four pillars of OOPs."
   ]
  },
  {
   "cell_type": "markdown",
   "id": "eea5ab27-246e-445e-8fa5-3f3ed6f40239",
   "metadata": {},
   "source": [
    "Inheritance---an object that ineherits the methods and properties of another object\n",
    "\n",
    "\n",
    "polymorphism--many forms(one function or object used in different ways)\n",
    "ex:addition and concatination\n",
    "In OOP, polymorphism can be implemented with inheritance. The methods of the child class will have the same name as those of the parent class. The child class method overrides the method inherited from the parent class, when called with the child class object. This kind of implementation is called method overriding.\n",
    "\n",
    "Encapsulation---Encapsulation is the process of making data private by wrapping data and its methods in a 'capsule' or unit, so that it can not be accessed or modified outside of that unit.\n",
    "it is achieved by making variables inside a class private.\n",
    "\n",
    "In Python we can make variables private by prefixing the variable name with a double underscore '__'.\n",
    "\n",
    "\n",
    "Abstraction\n",
    "The fourth pillar of OOP is Abstraction. Abstraction is about keeping the process simple by hiding unnecessary details from the user. "
   ]
  },
  {
   "cell_type": "markdown",
   "id": "7c88a255-8c9d-473c-843a-b071918157b3",
   "metadata": {},
   "source": [
    "Q3. Explain why the __init__() function is used. Give a suitable example."
   ]
  },
  {
   "cell_type": "markdown",
   "id": "2bf24590-7c78-479d-a787-b953d0933265",
   "metadata": {},
   "source": [
    " Constructors are used to initializing the object’s state. The task of constructors is to initialize(assign values) to the data members of the class when an object of the class is created. Like methods, a constructor also contains a collection of statements(i.e. instructions) that are executed at the time of Object creation. It is run as soon as an object of a class is instantiated. The method is useful to do any initialization you want to do with your object."
   ]
  },
  {
   "cell_type": "code",
   "execution_count": 1,
   "id": "bee2fb35-a680-4bae-818a-183de8270b63",
   "metadata": {},
   "outputs": [
    {
     "name": "stdout",
     "output_type": "stream",
     "text": [
      "Hello, my name is Nikhil\n"
     ]
    }
   ],
   "source": [
    "# A Sample class with init method\n",
    "class Person:\n",
    " \n",
    "    # init method or constructor\n",
    "    def __init__(self, name):\n",
    "        self.name = name\n",
    " \n",
    "    # Sample Method\n",
    "    def say_hi(self):\n",
    "        print('Hello, my name is', self.name)\n",
    " \n",
    " \n",
    "p = Person('Nikhil')\n",
    "p.say_hi()\n"
   ]
  },
  {
   "cell_type": "markdown",
   "id": "f713c549-70cc-4d99-91ed-9ac7a7acb0bd",
   "metadata": {},
   "source": [
    "Q4. Why self is used in OOPs?"
   ]
  },
  {
   "cell_type": "markdown",
   "id": "ebc22e0b-562a-4af6-a071-c78cd4355fea",
   "metadata": {},
   "source": [
    "In object-oriented programming, whenever we define methods for a class, we use self as the first parameter in each case. Let's look at the definition of a class called Cat."
   ]
  },
  {
   "cell_type": "code",
   "execution_count": 2,
   "id": "f71534d2-9f84-40bc-a307-daea509dd0e5",
   "metadata": {},
   "outputs": [],
   "source": [
    "class Cat:\n",
    "    def __init__(self, name, age):\n",
    "        self.name = name\n",
    "        self.age = age\n",
    "\n",
    "    def info(self):\n",
    "        print(f\"I am a cat. My name is {self.name}. I am {self.age} years old.\")\n",
    "\n",
    "    def make_sound(self):\n",
    "        print(\"Meow\")"
   ]
  },
  {
   "cell_type": "code",
   "execution_count": 8,
   "id": "75888145-5d44-49d1-a86e-017c5418c720",
   "metadata": {},
   "outputs": [
    {
     "data": {
      "text/plain": [
       "<bound method Cat.make_sound of <__main__.Cat object at 0x7f7c2d727190>>"
      ]
     },
     "execution_count": 8,
     "metadata": {},
     "output_type": "execute_result"
    }
   ],
   "source": [
    "c=Cat('venky',13)\n",
    "c.info\n",
    "c.make_sound"
   ]
  },
  {
   "cell_type": "markdown",
   "id": "f06c157e-b896-4abf-97d7-16c51c0738c4",
   "metadata": {},
   "source": [
    "The self keyword is used to represent an instance (object) of the given class. In this case, the two Cat objects cat1 and cat2 have their own name and age attributes. If there was no self argument, the same class couldn't hold the information for both these objects.\n",
    "\n",
    "However, since the class is just a blueprint\n",
    "self allows access to the attributes and methods of each object in python. This allows each object to have its own attributes and methods. Thus, even long before creating these objects, we reference the objects as self while defining the class.\n",
    "\n"
   ]
  },
  {
   "cell_type": "code",
   "execution_count": 9,
   "id": "6a0a4917-5857-4a40-b4eb-4125a2ed361b",
   "metadata": {},
   "outputs": [],
   "source": [
    "class pwskills:\n",
    "    def welcome_msg():\n",
    "        print(\"welcome to pwskills\")"
   ]
  },
  {
   "cell_type": "code",
   "execution_count": 11,
   "id": "cd0aef08-28a0-456e-a834-db1f8924a89e",
   "metadata": {},
   "outputs": [
    {
     "name": "stdout",
     "output_type": "stream",
     "text": [
      "welcome to pwskills\n"
     ]
    }
   ],
   "source": [
    "pwskills.welcome_msg()"
   ]
  },
  {
   "cell_type": "code",
   "execution_count": 14,
   "id": "479ae2b0-c85b-42e2-ad21-ff2fde21a50a",
   "metadata": {},
   "outputs": [],
   "source": [
    "a=pwskills()\n"
   ]
  },
  {
   "cell_type": "code",
   "execution_count": 15,
   "id": "54d3df94-fdaf-4314-a013-a83b7d68d526",
   "metadata": {},
   "outputs": [
    {
     "ename": "TypeError",
     "evalue": "pwskills.welcome_msg() takes 0 positional arguments but 1 was given",
     "output_type": "error",
     "traceback": [
      "\u001b[0;31m---------------------------------------------------------------------------\u001b[0m",
      "\u001b[0;31mTypeError\u001b[0m                                 Traceback (most recent call last)",
      "Cell \u001b[0;32mIn[15], line 1\u001b[0m\n\u001b[0;32m----> 1\u001b[0m \u001b[43ma\u001b[49m\u001b[38;5;241;43m.\u001b[39;49m\u001b[43mwelcome_msg\u001b[49m\u001b[43m(\u001b[49m\u001b[43m)\u001b[49m\n",
      "\u001b[0;31mTypeError\u001b[0m: pwskills.welcome_msg() takes 0 positional arguments but 1 was given"
     ]
    }
   ],
   "source": [
    "a.welcome_msg()"
   ]
  },
  {
   "cell_type": "markdown",
   "id": "fb0d9348-14a1-44d6-8320-0c68547cddca",
   "metadata": {},
   "source": [
    "Q5. What is inheritance? Give an example for each type of inheritance.\n",
    "\n"
   ]
  },
  {
   "cell_type": "markdown",
   "id": "3324f5bc-8845-4a56-a26b-662ca399ac9f",
   "metadata": {},
   "source": [
    "Inheritance relationship defines the classes that inherit from other classes as derived, subclass, or sub-type classes. Base class remains to be the source from which a subclass inherits. For example, you have a Base class of “Animal,” and a “Lion” is a Derived class. The inheritance will be Lion is an Animal\n",
    "\n",
    "\n",
    "Types of Inheritance in Python\n",
    "Single Inheritance\n",
    "- the inheritance of the “Derived” class from the “Base” class. Let’s understand it through an example, \n",
    "\n",
    "\n",
    "\n",
    "\n",
    "\n",
    "\n",
    "\n"
   ]
  },
  {
   "cell_type": "code",
   "execution_count": 21,
   "id": "0e0078ae-0bcf-4749-ad24-909a3b90b85c",
   "metadata": {},
   "outputs": [
    {
     "name": "stdout",
     "output_type": "stream",
     "text": [
      "This is Spain\n",
      "This is State\n"
     ]
    }
   ],
   "source": [
    "\n",
    "class Country:\n",
    "\n",
    "     def ShowCountry(self):\n",
    "\n",
    "         print('This is Spain');\n",
    "\n",
    "class State(Country):\n",
    "\n",
    "     def ShowState(self):\n",
    "\n",
    "         print('This is State');\n",
    "\n",
    "st =State();\n",
    "\n",
    "st.ShowCountry();\n",
    "\n",
    "st.ShowState();\n"
   ]
  },
  {
   "cell_type": "markdown",
   "id": "9f760991-639c-4c52-9051-94b3c3e89086",
   "metadata": {},
   "source": [
    "\n",
    "Multi-Level inheritance\n",
    "\n",
    "\n",
    "Python is made of several objects, and with the multi-level inheritance, there are endless possibilities of reusing the class functionalities.  Multi-level inheritance gets documented each time a derived class inherits another derived class. There is no limit to the number of derived classes that can inherit the functionalities, and that is why multilevel inheritance helps to improve the reusability in Python. \n",
    "\n",
    "Here is an example of multilevel inheritance"
   ]
  },
  {
   "cell_type": "code",
   "execution_count": 19,
   "id": "0116a33b-7217-4afd-814d-0deeb9e99eee",
   "metadata": {},
   "outputs": [
    {
     "name": "stdout",
     "output_type": "stream",
     "text": [
      "dog barking\n",
      "Animal Speaking\n",
      "Eating bread\n"
     ]
    }
   ],
   "source": [
    "class Animal:  \n",
    "\n",
    "    def speak(self):  \n",
    "\n",
    "        print('Animal Speaking')  \n",
    "\n",
    "#The child class Dog inherits the base class Animal  \n",
    "\n",
    "class Dog(Animal):  \n",
    "\n",
    "    def bark(self):  \n",
    "\n",
    "        print('dog barking')  \n",
    "\n",
    "#The child class Dogchild inherits another child class Dog  \n",
    "\n",
    "class DogChild(Dog):  \n",
    "\n",
    "    def eat(self):  \n",
    "\n",
    "        print('Eating bread')  \n",
    "\n",
    "d = DogChild()  \n",
    "\n",
    "d.bark()  \n",
    "\n",
    "d.speak()  \n",
    "\n",
    "d.eat() "
   ]
  },
  {
   "cell_type": "markdown",
   "id": "cc6e8d9d-c13b-4dd7-84f9-0890ef35eb67",
   "metadata": {},
   "source": [
    "\n",
    "Multiple Inheritance\n",
    "\n",
    "\n",
    "Python enables developers to inherit multiple functionalities and properties from different base classes into a single derived class. It is mostly a great feature as it can allow you to inherit multiple dependencies without extensive tools or coding. \n",
    "\n",
    "Let’s look at an example for multiple inheritances."
   ]
  },
  {
   "cell_type": "code",
   "execution_count": 16,
   "id": "4e839d10-0231-4911-aae1-1d91cbc63ac4",
   "metadata": {},
   "outputs": [
    {
     "name": "stdout",
     "output_type": "stream",
     "text": [
      "30\n",
      "200\n",
      "0.5\n"
     ]
    }
   ],
   "source": [
    "class Calculation1:  \n",
    "\n",
    "    def Summation(self,a,b):  \n",
    "\n",
    "        return a+b;  \n",
    "\n",
    "class Calculation2:  \n",
    "\n",
    "    def Multiplication(self,a,b):  \n",
    "\n",
    "        return a*b;  \n",
    "\n",
    "class Derived(Calculation1,Calculation2):  \n",
    "\n",
    "    def Divide(self,a,b):  \n",
    "\n",
    "        return a/b;  \n",
    "\n",
    "d = Derived()  \n",
    "\n",
    "print(d.Summation(10,20))  \n",
    "\n",
    "print(d.Multiplication(10,20))  \n",
    "\n",
    "print(d.Divide(10,20))"
   ]
  },
  {
   "cell_type": "code",
   "execution_count": null,
   "id": "87dc1076-0969-42a3-9ad2-0642d400ec5f",
   "metadata": {},
   "outputs": [],
   "source": []
  }
 ],
 "metadata": {
  "kernelspec": {
   "display_name": "Python 3 (ipykernel)",
   "language": "python",
   "name": "python3"
  },
  "language_info": {
   "codemirror_mode": {
    "name": "ipython",
    "version": 3
   },
   "file_extension": ".py",
   "mimetype": "text/x-python",
   "name": "python",
   "nbconvert_exporter": "python",
   "pygments_lexer": "ipython3",
   "version": "3.10.8"
  }
 },
 "nbformat": 4,
 "nbformat_minor": 5
}
