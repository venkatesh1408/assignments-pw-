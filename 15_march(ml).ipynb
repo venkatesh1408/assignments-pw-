{
 "cells": [
  {
   "cell_type": "markdown",
   "id": "7abe3b7e-ad18-4570-b875-7bec0ebe7f88",
   "metadata": {},
   "source": [
    "1.Artificial intelligence\n",
    "    Smart Application that can perform its own task without any human interaction.\n",
    "    Ex:self driving car\n",
    "        virtual personal assistants\n",
    "    \n",
    "2.Machine Learning\n",
    "    It provides statistical tooll to learn ,analyze,visualize and develop predictive models from data\n",
    "\n",
    "\n",
    "Ex:Spam email filters that learn to classify emails as spam or non-spam based on patterns in the email content.\n",
    "    Predictive models used in finance to forecast stock prices \n",
    "    \n",
    "3.Deep learning\n",
    "Mimic Human Brain\n",
    "DL is a subfield of ML that utilizes artificial neural networks with multiple layers to automatically learn and extract high-level representations from data, leading to improved performance in complex tasks such as image and speech recognition.\n",
    "\n",
    "ex:objet detection\n",
    "    image detection\n",
    "\n",
    "\n"
   ]
  },
  {
   "cell_type": "markdown",
   "id": "2a8e4fde-0ed8-45ae-8870-167be69a0de3",
   "metadata": {},
   "source": [
    "2Q)Supervised learning is a machine learning approach where an algorithmm learns from labelled training data.in this type of learning the algorithm is provided with input data along with corresponding output labels , and it learns to map the input data to the correct output by finding patterns or relationships in the data\n",
    "\n",
    "Ex:\n",
    "Linear Regresion(house price prediction)\n",
    "Logistic Regression(classifying emails)\n",
    "Support vector Machines(features extracted from medical images)\n",
    "decision Trees(demographic data)"
   ]
  },
  {
   "cell_type": "markdown",
   "id": "3448d982-11cc-4163-b20b-cd732d2917a0",
   "metadata": {},
   "source": [
    "3Q)Unsupervised learning is a machine learning approach where an algorithm learns from unlabeled data without any specific output labels or target variables. The algorithm discovers patterns, structures, or relationships in the data without being guided by predefined labels.\n",
    "\n",
    "\n",
    "In unsupervised learning, the goal is to gain insights and discover hidden structures in the data without any predefined target variables. It can be useful for exploratory data analysis, data preprocessing, and discovering novel patterns or anomalies.\n",
    "\n",
    "\n",
    "ex:\n",
    "clustering\n",
    "Association rule mining"
   ]
  },
  {
   "cell_type": "markdown",
   "id": "82e16b6a-935b-4fa8-bca4-b5648f7ce632",
   "metadata": {},
   "source": [
    "4Q)AI is the broader field of creating intelligent machines, ML is a subset of AI focused on algorithms that learn from data, DL is a subset of ML that uses deep neural networks for complex tasks, and DS involves the extraction of insights and knowledge from data using various techniques, including ML and DL."
   ]
  },
  {
   "cell_type": "markdown",
   "id": "41149635-3289-4d5d-9ab2-97a3026dfb98",
   "metadata": {},
   "source": [
    "5Q)main differences blw supervised ,unsupervised and semi supervised learning\n",
    "1.Learning Objectives\n",
    "2.Applicatin Scenarios\n",
    "3.complexity and interportability\n",
    "4.evaluation and performance assessment \n",
    "These differences highlight the varying approaches and applications of supervised, unsupervised, and semi-supervised learning methods. Each approach caters to different data availability scenarios and learning objectives, allowing for a more flexible and adaptable machine learning process."
   ]
  },
  {
   "cell_type": "markdown",
   "id": "bc7f92bf-8d80-470d-a08b-3fb73359f722",
   "metadata": {},
   "source": [
    "6Q)Train:\n",
    "The training set is the largest subset of data used to train the model\n",
    "Ex:book for exam\n",
    "\n",
    "\n",
    "\n",
    "validation:\n",
    "The validation set is used to fine-tune the model and make decisions during the training process\n",
    "\n",
    "ex:different books for exam\n",
    "\n",
    "Test:\n",
    "     It serves as the final evaluation set and provides an unbiased estimate of the model's performance on unseen data. \n",
    "     \n",
    " ex:exam paper  "
   ]
  },
  {
   "cell_type": "markdown",
   "id": "36fa2c09-53cc-45bf-a5b6-c875ee800a9d",
   "metadata": {},
   "source": [
    "7Q)\n",
    "Unsupervised learning can be utilized effectively in anomaly detection tasks. Anomaly detection involves identifying rare or unusual instances or patterns in a dataset that deviate significantly from the norm. Unsupervised learning techniques are well-suited for this task as they do not rely on predefined labels or specific target variables. Here's an overview of how unsupervised learning can be used for anomaly detection:\n",
    "\n",
    "1.unlabelled data\n",
    "2.clustering \n",
    "3.density based metods\n",
    "4.reconstruction\n",
    "5.novelty detection\n",
    "6.ensemble methods"
   ]
  },
  {
   "cell_type": "markdown",
   "id": "28ba6cd5-21c7-4b65-b2e8-21f98053db32",
   "metadata": {},
   "source": [
    "8Q)Supervised Learning Algorithms:\n",
    "\n",
    "Linear Regression\n",
    "Logistic Regression\n",
    "Decision Trees\n",
    "Random Forests\n",
    "Support Vector Machines (SVM)\n",
    "Naive Bayes\n",
    "k-Nearest Neighbors (k-NN)\n",
    "Gradient Boosting algorithms (e.g., AdaBoost, XGBoost, LightGBM)\n",
    "Neural Networks (including deep learning architectures)\n",
    "\n",
    "\n",
    "\n",
    "Unsupervised Learning Algorithms:\n",
    "\n",
    "K-means Clustering\n",
    "Hierarchical Clustering\n",
    "DBSCAN (Density-Based Spatial Clustering of Applications with Noise)\n",
    "Gaussian Mixture Models (GMM)\n",
    "Principal Component Analysis (PCA)\n",
    "t-SNE (t-Distributed Stochastic Neighbor Embedding)\n",
    "Association Rule Mining (e.g., Apriori algorithm)\n",
    "Anomaly Detection (e.g., One-Class SVM, Isolation Forest)\n",
    "Self-Organizing Maps (SOM)\n",
    "Restricted Boltzmann Machines (RBM)"
   ]
  }
 ],
 "metadata": {
  "kernelspec": {
   "display_name": "Python 3 (ipykernel)",
   "language": "python",
   "name": "python3"
  },
  "language_info": {
   "codemirror_mode": {
    "name": "ipython",
    "version": 3
   },
   "file_extension": ".py",
   "mimetype": "text/x-python",
   "name": "python",
   "nbconvert_exporter": "python",
   "pygments_lexer": "ipython3",
   "version": "3.10.8"
  }
 },
 "nbformat": 4,
 "nbformat_minor": 5
}
