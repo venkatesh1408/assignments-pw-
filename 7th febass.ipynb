{
 "cells": [
  {
   "cell_type": "markdown",
   "id": "36af8a88-1f77-47e1-accc-886d2c07c130",
   "metadata": {},
   "source": [
    "Q1. You are writing code for a company. The requirement of the company is that you create a python\n",
    "function that will check whether the password entered by the user is correct or not. The function should\n",
    "take the password as input and return the string “Valid Password” if the entered password follows the\n",
    "below-given password guidelines else it should return “Invalid Password”.\n",
    "Note: 1. The Password should contain at least two uppercase letters and at least two lowercase letters.\n",
    "2. The Password should contain at least a number and three special characters.\n",
    "3. The length of the password should be 10 characters long."
   ]
  },
  {
   "cell_type": "code",
   "execution_count": 1,
   "id": "742d8b3f-a969-4918-b7d7-cd52d7678926",
   "metadata": {},
   "outputs": [],
   "source": [
    "def authentication(password):\n",
    "    one=False\n",
    "    three=False\n",
    "    if len(password)==10:\n",
    "        three=True\n",
    "    upper=0\n",
    "    lower=0\n",
    "    num=0\n",
    "    sp=0\n",
    "    for i in password:\n",
    "        if i.isupper():\n",
    "            upper+=1\n",
    "        elif i.islower():\n",
    "            lower+=1\n",
    "        elif i.isdigit():\n",
    "            num+=1\n",
    "        else:\n",
    "            sp+=1\n",
    "    print(upper)\n",
    "    print(lower)\n",
    "    print(num)\n",
    "    print(sp)\n",
    "    if upper>=2 and lower>=2 and num>=1 and sp==3:\n",
    "        one=True\n",
    "    if (one==True) and (three==True):\n",
    "        return 'Valid Password'\n",
    "    else:\n",
    "        return 'Invalid Password'   "
   ]
  },
  {
   "cell_type": "code",
   "execution_count": 2,
   "id": "563df3eb-5208-4c61-8b4a-a2ec0eff51b4",
   "metadata": {},
   "outputs": [
    {
     "name": "stdout",
     "output_type": "stream",
     "text": [
      "2\n",
      "4\n",
      "1\n",
      "3\n"
     ]
    },
    {
     "data": {
      "text/plain": [
       "'Valid Password'"
      ]
     },
     "execution_count": 2,
     "metadata": {},
     "output_type": "execute_result"
    }
   ],
   "source": [
    "authentication('wsWS1$#@sd')"
   ]
  },
  {
   "cell_type": "markdown",
   "id": "d0d846b6-4c95-4540-ae1c-748a6ddea6a5",
   "metadata": {},
   "source": [
    "Q2. Solve the below-given questions using at least one of the following:\n",
    "1. Lambda functioJ\n",
    "2. Filter functioJ\n",
    "3. Zap functioJ\n",
    "4. List ComprehensioI\n"
   ]
  },
  {
   "cell_type": "markdown",
   "id": "e426801e-c3e5-4ccd-b824-12a8a5cf10c0",
   "metadata": {},
   "source": [
    "B Check if the string starts with a particular letter\n"
   ]
  },
  {
   "cell_type": "code",
   "execution_count": 3,
   "id": "8a8e5eb1-ef63-46a6-9b0f-b474cb883dce",
   "metadata": {},
   "outputs": [
    {
     "data": {
      "text/plain": [
       "False"
      ]
     },
     "execution_count": 3,
     "metadata": {},
     "output_type": "execute_result"
    }
   ],
   "source": [
    "a=(lambda x:True if x.startswith(\"v\") else False)\n",
    "a('sasi')\n"
   ]
  },
  {
   "cell_type": "markdown",
   "id": "d1b33763-c7f1-4b71-93b9-9be38bf5cc1f",
   "metadata": {},
   "source": [
    "B Check if the string is numeric\n"
   ]
  },
  {
   "cell_type": "code",
   "execution_count": 9,
   "id": "40054978-aa6d-49d6-a119-cf95641bfdce",
   "metadata": {},
   "outputs": [],
   "source": [
    "b=(lambda x:True if x.isnumeric() else False)"
   ]
  },
  {
   "cell_type": "code",
   "execution_count": 10,
   "id": "6ac3747f-ea3a-457c-b8a8-7fcd98456b13",
   "metadata": {},
   "outputs": [
    {
     "data": {
      "text/plain": [
       "True"
      ]
     },
     "execution_count": 10,
     "metadata": {},
     "output_type": "execute_result"
    }
   ],
   "source": [
    "b('123')"
   ]
  },
  {
   "cell_type": "markdown",
   "id": "48320063-4641-406f-a969-bc733b585343",
   "metadata": {},
   "source": [
    "B Sort a list of tuples having fruit names and their quantity. [(\"mango\",99),(\"orange\",80), (\"grapes\", 1000)-\n"
   ]
  },
  {
   "cell_type": "code",
   "execution_count": 11,
   "id": "97a99806-c5bc-4194-a4c1-7b47456878a8",
   "metadata": {},
   "outputs": [
    {
     "name": "stdout",
     "output_type": "stream",
     "text": [
      "Sorted list of fruits: [('orange', 80), ('mango', 99), ('grapes', 1000)]\n"
     ]
    }
   ],
   "source": [
    "fruits = [(\"mango\", 99), (\"orange\", 80), (\"grapes\", 1000)]\n",
    "sorted_fruits = sorted(fruits, key=lambda x: x[1])\n",
    "print(\"Sorted list of fruits:\", sorted_fruits)\n"
   ]
  },
  {
   "cell_type": "markdown",
   "id": "49859436-5101-40e2-8deb-52fe875cb7af",
   "metadata": {},
   "source": [
    "B Find the squares of numbers from 1 to 10\n"
   ]
  },
  {
   "cell_type": "code",
   "execution_count": 16,
   "id": "eeba91bd-ed2a-4592-ad3f-8bf9d91bbcef",
   "metadata": {},
   "outputs": [
    {
     "data": {
      "text/plain": [
       "[1, 4, 9, 16, 25, 36, 49, 64, 81, 100]"
      ]
     },
     "execution_count": 16,
     "metadata": {},
     "output_type": "execute_result"
    }
   ],
   "source": [
    "l=[1,2,3,4,5,6,7,8,9,10]\n",
    "a=map(lambda x:x*x ,l)\n",
    "list(a)"
   ]
  },
  {
   "cell_type": "code",
   "execution_count": null,
   "id": "cf138547-ff0b-438f-8488-6d1c6ea4786e",
   "metadata": {},
   "outputs": [],
   "source": [
    "B Find the cube root of numbers from 1 to 10\n"
   ]
  },
  {
   "cell_type": "code",
   "execution_count": 17,
   "id": "144d8345-b0f6-40a2-9613-3e60967b99e9",
   "metadata": {},
   "outputs": [
    {
     "data": {
      "text/plain": [
       "[1, 8, 27, 64, 125, 216, 343, 512, 729, 1000]"
      ]
     },
     "execution_count": 17,
     "metadata": {},
     "output_type": "execute_result"
    }
   ],
   "source": [
    "l=[1,2,3,4,5,6,7,8,9,10]\n",
    "a=map(lambda x:x**3 ,l)\n",
    "list(a)"
   ]
  },
  {
   "cell_type": "code",
   "execution_count": null,
   "id": "bce8f099-973b-4951-8ae2-9053559fec37",
   "metadata": {},
   "outputs": [],
   "source": [
    "B Check if a given number is even\n"
   ]
  },
  {
   "cell_type": "code",
   "execution_count": 13,
   "id": "4a469581-6dd7-4b38-a422-ce054ee55896",
   "metadata": {},
   "outputs": [
    {
     "data": {
      "text/plain": [
       "'even'"
      ]
     },
     "execution_count": 13,
     "metadata": {},
     "output_type": "execute_result"
    }
   ],
   "source": [
    "a=(lambda x:'even' if x%2==0 else 'odd')\n",
    "a(2)"
   ]
  },
  {
   "cell_type": "markdown",
   "id": "d9fad424-a7aa-4d00-a61d-da75356c82b2",
   "metadata": {},
   "source": [
    "B Filter odd numbers from the given list.\n",
    "[1,2,3,4,5,6,7,8,9,10]"
   ]
  },
  {
   "cell_type": "code",
   "execution_count": 11,
   "id": "9a4d2910-ba12-4226-84e8-94620be55633",
   "metadata": {},
   "outputs": [
    {
     "name": "stdout",
     "output_type": "stream",
     "text": [
      "[1, 3, 5, 7, 9]\n"
     ]
    }
   ],
   "source": [
    "l=[1,2,3,4,5,6,7,8,9,10]\n",
    "v=list(filter(lambda x:x%2!=0 ,l))\n",
    "print(v)"
   ]
  },
  {
   "cell_type": "code",
   "execution_count": null,
   "id": "7a56f76b-0168-4069-af5d-938330ceb54d",
   "metadata": {},
   "outputs": [],
   "source": [
    "\n",
    "B Sort a list of integers into positive and negative integers lists.\n",
    "[1,2,3,4,5,6,-1,-2,-3,-4,-5,0]"
   ]
  },
  {
   "cell_type": "code",
   "execution_count": 39,
   "id": "f8a48a3c-8e21-4ff7-9861-eda7858983f5",
   "metadata": {},
   "outputs": [
    {
     "name": "stdout",
     "output_type": "stream",
     "text": [
      "[0, 1, 2, 3, 4, 5, 6]\n",
      "[-5, -4, -3, -2, -1]\n"
     ]
    }
   ],
   "source": [
    "l=[1,2,3,4,5,6,-1,-2,-3,-4,-5,0]\n",
    "p=list(filter(lambda x:x>=0,l))\n",
    "v=list(filter(lambda x:x<0,l))\n",
    "print(sorted(p))\n",
    "print(sorted(v))\n"
   ]
  },
  {
   "cell_type": "code",
   "execution_count": null,
   "id": "f280e5ff-d57c-4019-90f6-e9bab3441436",
   "metadata": {},
   "outputs": [],
   "source": []
  }
 ],
 "metadata": {
  "kernelspec": {
   "display_name": "Python 3 (ipykernel)",
   "language": "python",
   "name": "python3"
  },
  "language_info": {
   "codemirror_mode": {
    "name": "ipython",
    "version": 3
   },
   "file_extension": ".py",
   "mimetype": "text/x-python",
   "name": "python",
   "nbconvert_exporter": "python",
   "pygments_lexer": "ipython3",
   "version": "3.10.8"
  }
 },
 "nbformat": 4,
 "nbformat_minor": 5
}
