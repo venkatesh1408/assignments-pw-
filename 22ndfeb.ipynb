{
 "cells": [
  {
   "cell_type": "markdown",
   "id": "b8538fc7-e0cb-4c7c-a5e8-ca3fc0dc8438",
   "metadata": {},
   "source": [
    "Q1. Create a Pandas Series that contains the following data: 4, 8, 15, 16, 23, and 42. Then, print the series."
   ]
  },
  {
   "cell_type": "code",
   "execution_count": 1,
   "id": "9204783a-25a7-4c9a-bbad-a40c08d51a72",
   "metadata": {},
   "outputs": [
    {
     "name": "stdout",
     "output_type": "stream",
     "text": [
      "0     4\n",
      "1     8\n",
      "2    15\n",
      "3    16\n",
      "4    23\n",
      "5    42\n",
      "dtype: int64\n"
     ]
    }
   ],
   "source": [
    "import pandas as pd\n",
    "data=[4,8,15,16,23,42]\n",
    "series=pd.Series(data)\n",
    "print(series)\n"
   ]
  },
  {
   "cell_type": "markdown",
   "id": "8e4f70d0-53f8-4e66-bdf5-e31d5a88c61e",
   "metadata": {},
   "source": [
    "Q2. Create a variable of list type containing 10 elements in it, and apply pandas.Series function on the\n",
    "variable print it."
   ]
  },
  {
   "cell_type": "code",
   "execution_count": 2,
   "id": "3ed4591e-2a69-4211-ba5b-128928ce8363",
   "metadata": {},
   "outputs": [
    {
     "name": "stdout",
     "output_type": "stream",
     "text": [
      "0     1\n",
      "1     2\n",
      "2     3\n",
      "3     4\n",
      "4     5\n",
      "5     6\n",
      "6     7\n",
      "7     8\n",
      "8     9\n",
      "9    10\n",
      "dtype: int64\n"
     ]
    }
   ],
   "source": [
    "variable=[1,2,3,4,5,6,7,8,9,10]\n",
    "import pandas as pd \n",
    "series=pd.Series(variable)\n",
    "print(series)"
   ]
  },
  {
   "cell_type": "markdown",
   "id": "7afa4fae-769f-43e1-9243-3db099390db3",
   "metadata": {},
   "source": [
    "Q3. Create a Pandas DataFrame that contains the following data:"
   ]
  },
  {
   "cell_type": "code",
   "execution_count": 13,
   "id": "fc42aa96-d5b0-48cc-9774-2daeea09b64a",
   "metadata": {},
   "outputs": [
    {
     "name": "stdout",
     "output_type": "stream",
     "text": [
      "     Name  Age  Gender\n",
      "0   Alice   25  Female\n",
      "1     Bob   30    Male\n",
      "2  Claire   27  Female\n"
     ]
    }
   ],
   "source": [
    "import pandas as pd\n",
    "data={\n",
    "    \"Name\":['Alice','Bob','Claire'],\n",
    "    \"Age\":[25,30,27],\n",
    "    \"Gender\":['Female','Male','Female']\n",
    "}\n",
    "df=pd.DataFrame(data)\n",
    "print(df)"
   ]
  },
  {
   "cell_type": "markdown",
   "id": "fde27725-0c6d-433b-b122-abb65d0e9ca1",
   "metadata": {},
   "source": [
    "Q4. What is ‘DataFrame’ in pandas and how is it different from pandas.series? Explain with an example."
   ]
  },
  {
   "cell_type": "markdown",
   "id": "4ecda2dd-22f6-41b1-8748-7bfa66180140",
   "metadata": {},
   "source": [
    "In Pandas, a DataFrame is a two-dimensional table-like data structure with labeled rows and columns. It can be thought of as a collection of Pandas Series that share the same index. Each column of a DataFrame can be thought of as a Pandas Series, and each row can be thought of as a collection of values corresponding to the columns.\n",
    "\n",
    "A Pandas Series, on the other hand, is a one-dimensional labeled array capable of holding any data type. It can be thought of as a single column of a DataFrame.\n",
    "\n",
    "Here's an example to illustrate the difference between a Pandas Series and a DataFrame:"
   ]
  },
  {
   "cell_type": "code",
   "execution_count": 14,
   "id": "3f89045f-7f11-462f-96cf-edf7338ee1a0",
   "metadata": {},
   "outputs": [
    {
     "name": "stdout",
     "output_type": "stream",
     "text": [
      "Series:\n",
      "0    1\n",
      "1    2\n",
      "2    3\n",
      "3    4\n",
      "4    5\n",
      "Name: numbers, dtype: int64\n",
      "DataFrame:\n",
      "     Name  Age  Gender\n",
      "0   Alice   25  Female\n",
      "1     Bob   30    Male\n",
      "2  Claire   27  Female\n"
     ]
    }
   ],
   "source": [
    "import pandas as pd\n",
    "\n",
    "# create a Pandas Series\n",
    "s = pd.Series([1, 2, 3, 4, 5], name=\"numbers\")\n",
    "print(\"Series:\")\n",
    "print(s)\n",
    "\n",
    "# create a DataFrame\n",
    "data = {\n",
    "    \"Name\": [\"Alice\", \"Bob\", \"Claire\"],\n",
    "    \"Age\": [25, 30, 27],\n",
    "    \"Gender\": [\"Female\", \"Male\", \"Female\"]\n",
    "}\n",
    "df = pd.DataFrame(data)\n",
    "print(\"DataFrame:\")\n",
    "print(df)\n"
   ]
  },
  {
   "cell_type": "markdown",
   "id": "2169dcdb-c5c6-4b75-af49-59e650e3cbaf",
   "metadata": {},
   "source": [
    "In the example, s is a Pandas Series that contains five integer values with a name \"numbers\". On the other hand, df is a Pandas DataFrame that contains three columns (\"Name\", \"Age\", and \"Gender\") and three rows with the given data. Each column of the DataFrame is a Pandas Series. The output shows that the Series and DataFrame have different structures and can hold different types of data."
   ]
  },
  {
   "cell_type": "markdown",
   "id": "8d3ab7d6-2781-4ac8-8452-ce572a7499fb",
   "metadata": {},
   "source": [
    "Q5. What are some common functions you can use to manipulate data in a Pandas DataFrame? Can\n",
    "you give an example of when you might use one of these functions?"
   ]
  },
  {
   "cell_type": "markdown",
   "id": "9f829f0b-2b77-4f44-a259-0c944aef1f3c",
   "metadata": {},
   "source": [
    "Pandas provides a wide range of functions for manipulating data in a DataFrame. Here are some of the commonly used functions:\n",
    "\n",
    "head(): Returns the first n rows of the DataFrame. Useful for getting a quick look at the data.\n",
    "\n",
    "tail(): Returns the last n rows of the DataFrame. Useful for getting a quick look at the data.\n",
    "\n",
    "info(): Provides a summary of the DataFrame, including the data types of each column and the number of non-null values.\n",
    "\n",
    "describe(): Generates descriptive statistics for numerical columns in the DataFrame, including count, mean, standard deviation, minimum, and maximum values.\n",
    "\n",
    "drop(): Removes rows or columns from the DataFrame.\n",
    "\n",
    "sort_values(): Sorts the DataFrame by one or more columns.\n",
    "\n",
    "groupby(): Groups the DataFrame by one or more columns and applies a function to each group.\n",
    "\n",
    "pivot_table(): Creates a pivot table based on the DataFrame.\n",
    "\n",
    "fillna(): Fills missing values in the DataFrame with a specified value.\n",
    "\n",
    "merge(): Merges two DataFrames based on a common column.\n",
    "\n",
    "Here's an example of how you might use one of these functions:"
   ]
  },
  {
   "cell_type": "code",
   "execution_count": 1,
   "id": "5e3888d6-a0f2-4408-a430-f85509ac040a",
   "metadata": {},
   "outputs": [
    {
     "name": "stdout",
     "output_type": "stream",
     "text": [
      "     Name  Age  Gender\n",
      "0   Alice   25  Female\n",
      "2  Claire   27  Female\n",
      "1     Bob   30    Male\n"
     ]
    }
   ],
   "source": [
    "import pandas as pd\n",
    "\n",
    "# create a DataFrame\n",
    "data = {\n",
    "    \"Name\": [\"Alice\", \"Bob\", \"Claire\"],\n",
    "    \"Age\": [25, 30, 27],\n",
    "    \"Gender\": [\"Female\", \"Male\", \"Female\"]\n",
    "}\n",
    "df = pd.DataFrame(data)\n",
    "\n",
    "# sort the DataFrame by age in ascending order\n",
    "df_sorted = df.sort_values(by=\"Age\")\n",
    "\n",
    "# print the sorted DataFrame\n",
    "print(df_sorted)\n"
   ]
  },
  {
   "cell_type": "markdown",
   "id": "35e99904-8662-4f58-a8b5-ac393f18b4ea",
   "metadata": {},
   "source": [
    "Q6. Which of the following is mutable in nature Series, DataFrame, Panel?"
   ]
  },
  {
   "cell_type": "markdown",
   "id": "c7d7cd16-fb5e-4533-a3a9-348306e5ad50",
   "metadata": {},
   "source": [
    "In Pandas, both Series and DataFrame are mutable in nature, while Panel is a deprecated data structure that is no longer recommended to use.\n",
    "\n",
    "A mutable object is one that can be modified after it is created. In the case of Series and DataFrame, we can add, remove, or modify elements, columns, and rows after the object is created. This makes them very useful for data manipulation and analysis."
   ]
  },
  {
   "cell_type": "code",
   "execution_count": null,
   "id": "4c262d2e-3e12-4e2e-b7c3-cfffb7e2a00d",
   "metadata": {},
   "outputs": [],
   "source": []
  },
  {
   "cell_type": "markdown",
   "id": "b69076d6-2aaa-4062-a635-3df18395a155",
   "metadata": {},
   "source": [
    "Q7. Create a DataFrame using multiple Series. Explain with an example."
   ]
  },
  {
   "cell_type": "markdown",
   "id": "22b39fa8-7139-47bc-8077-12c7dcafe8a4",
   "metadata": {},
   "source": [
    "In Pandas, we can create a DataFrame using multiple Series. A Series is essentially a one-dimensional array-like object that can hold any data type. We can combine multiple Series into a DataFrame using the pd.concat() function.\n",
    "\n",
    "Here's an example of how to create a DataFrame using multiple Series:"
   ]
  },
  {
   "cell_type": "code",
   "execution_count": 3,
   "id": "57a01dbc-3904-4697-94e9-57add35810ad",
   "metadata": {},
   "outputs": [
    {
     "name": "stdout",
     "output_type": "stream",
     "text": [
      "   A  B  C\n",
      "0  1  4  7\n",
      "1  2  5  8\n",
      "2  3  6  9\n"
     ]
    }
   ],
   "source": [
    "import pandas as pd\n",
    "\n",
    "# create three Series\n",
    "s1 = pd.Series([1, 2, 3], name=\"A\")\n",
    "s2 = pd.Series([4, 5, 6], name=\"B\")\n",
    "s3 = pd.Series([7, 8, 9], name=\"C\")\n",
    "\n",
    "# concatenate the Series into a DataFrame\n",
    "df = pd.concat([s1, s2, s3], axis=1)\n",
    "\n",
    "# print the DataFrame\n",
    "print(df)\n"
   ]
  },
  {
   "cell_type": "code",
   "execution_count": null,
   "id": "50c1a37d-5aa3-4481-9f4e-fb1d736ddbfd",
   "metadata": {},
   "outputs": [],
   "source": []
  }
 ],
 "metadata": {
  "kernelspec": {
   "display_name": "Python 3 (ipykernel)",
   "language": "python",
   "name": "python3"
  },
  "language_info": {
   "codemirror_mode": {
    "name": "ipython",
    "version": 3
   },
   "file_extension": ".py",
   "mimetype": "text/x-python",
   "name": "python",
   "nbconvert_exporter": "python",
   "pygments_lexer": "ipython3",
   "version": "3.10.8"
  }
 },
 "nbformat": 4,
 "nbformat_minor": 5
}
