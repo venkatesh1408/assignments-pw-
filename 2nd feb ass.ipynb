{
 "cells": [
  {
   "cell_type": "markdown",
   "id": "af24d8f3-3f37-41d1-9671-bbc287cb3291",
   "metadata": {},
   "source": [
    "Q1. What are the characteristics of the tuples? Is tuple immutable? "
   ]
  },
  {
   "cell_type": "markdown",
   "id": "7285efa0-87e4-4b7e-a469-dec17a84622a",
   "metadata": {},
   "source": [
    "Characteristics of Tuples:\n",
    "They are indexed\n",
    "They are ordered\n",
    "These are immutable\n",
    "They can contain duplicate items\n",
    "\n",
    "yes Tuple is immutable"
   ]
  },
  {
   "cell_type": "markdown",
   "id": "1d792ac8-cf74-4af2-b931-42bf6821b551",
   "metadata": {},
   "source": [
    "Q2. What are the two tuple methods in python? Give an example of each method. Give a reason why\n",
    "tuples have only two in-built methods as compared to Lists."
   ]
  },
  {
   "cell_type": "markdown",
   "id": "efabccf1-537a-4e8e-a457-ec8863e32f21",
   "metadata": {},
   "source": [
    "1.Count() Method\n",
    "The count() method of Tuple returns the number of times the given element appears in the tuple.\n",
    "\n",
    "Syntax:\n",
    "\n",
    "tuple.count(element)\n",
    "\n",
    "Index() Method\n",
    "The Index() method returns the first occurrence of the given element from the tuple.\n",
    "\n",
    "Syntax:\n",
    "\n",
    "tuple.index(element, start, end)\n",
    "Parameters:\n",
    "\n",
    "element: The element to be searched.\n",
    "start (Optional): The starting index from where the searching is started\n",
    "end (Optional): The ending index till where the searching is done\n",
    "Note: This method raises a ValueError if the element is not found in the tuple.\n",
    "\n",
    "unlike lists tuples are immutable so they have only 2 methods"
   ]
  },
  {
   "cell_type": "markdown",
   "id": "00f161d4-a10c-47b5-8e18-455fc64748a3",
   "metadata": {},
   "source": [
    "Q3. Which collection datatypes in python do not allow duplicate items? Write a code using a set to remove\n",
    "duplicates from the given list.\n",
    "List = [1, 1, 1, 2, 1, 3, 1, 4, 2, 1, 2, 2, 2, 3, 2, 4, 3, 1, 3, 2, 3, 3, 3, 4, 4, 1, 4, 2, 4, 3, 4, 4]"
   ]
  },
  {
   "cell_type": "code",
   "execution_count": 4,
   "id": "d30567ff-3094-4e73-bb0b-0bdcadf1d282",
   "metadata": {},
   "outputs": [
    {
     "data": {
      "text/plain": [
       "[1, 2, 3, 4]"
      ]
     },
     "execution_count": 4,
     "metadata": {},
     "output_type": "execute_result"
    }
   ],
   "source": [
    "'''set datatype in python do not allow duplicate items in python'''\n",
    "List = [1, 1, 1, 2, 1, 3, 1, 4, 2, 1, 2, 2, 2, 3, 2, 4, 3, 1, 3, 2, 3, 3, 3, 4, 4, 1, 4, 2, 4, 3, 4, 4]\n",
    "s=set(List)\n",
    "uniquelist=list(s)\n",
    "uniquelist\n",
    "\n",
    "\n",
    "\n"
   ]
  },
  {
   "cell_type": "markdown",
   "id": "6cdb72d4-2505-4244-acd9-7a25d9ab7a91",
   "metadata": {},
   "source": [
    "Q4. Explain the difference between the union() and update() methods for a set. Give an example of\n",
    "each method."
   ]
  },
  {
   "cell_type": "markdown",
   "id": "3b39de6e-e0cc-4f8e-8e60-7be99d0a1710",
   "metadata": {},
   "source": [
    "In Python, both union() and update() methods can be used to combine two sets into a single set. However, there are some differences between these methods.\n",
    "\n",
    "union() method:\n",
    "The union() method returns a new set that contains all the elements from both sets, without any duplicates.\n",
    "The original sets remain unchanged after the union() operation.\n",
    "The union() method can take one or more sets as arguments.\n",
    "The syntax for union() method is set1.union(set2, set3, ...)\n",
    "Here's an example of using union() method:"
   ]
  },
  {
   "cell_type": "code",
   "execution_count": 5,
   "id": "625c1f75-a474-4517-8bbc-c5ae42782ec5",
   "metadata": {},
   "outputs": [
    {
     "name": "stdout",
     "output_type": "stream",
     "text": [
      "{1, 2, 3, 4, 5, 6, 7}\n"
     ]
    }
   ],
   "source": [
    "set1 = {1, 2, 3}\n",
    "set2 = {3, 4, 5}\n",
    "set3 = {5, 6, 7}\n",
    "\n",
    "new_set = set1.union(set2, set3)\n",
    "print(new_set)"
   ]
  },
  {
   "cell_type": "markdown",
   "id": "1e81c237-47fb-4e54-9236-fd434d19e11d",
   "metadata": {},
   "source": [
    "In the above example, the union() method takes three sets set1, set2, and set3 as arguments and creates a new set new_set containing all the unique elements from these sets.\n",
    "\n",
    "update() method:\n",
    "The update() method adds all the elements from one set to another set.\n",
    "The original set is updated with the new elements after the update() operation.\n",
    "The update() method can take one or more sets as arguments.\n",
    "The syntax for update() method is set1.update(set2, set3, ...)\n",
    "Here's an example of using update() method"
   ]
  },
  {
   "cell_type": "code",
   "execution_count": 6,
   "id": "749dfc82-711a-4395-91ce-083f73a73351",
   "metadata": {},
   "outputs": [
    {
     "name": "stdout",
     "output_type": "stream",
     "text": [
      "{1, 2, 3, 4, 5, 6, 7}\n"
     ]
    }
   ],
   "source": [
    "set1 = {1, 2, 3}\n",
    "set2 = {3, 4, 5}\n",
    "set3 = {5, 6, 7}\n",
    "\n",
    "set1.update(set2, set3)\n",
    "print(set1)\n"
   ]
  },
  {
   "cell_type": "markdown",
   "id": "d21d856f-4d0e-4ee5-bde2-bf80dfa5407e",
   "metadata": {},
   "source": [
    "Note that the update() method modifies the original set, whereas the union() method returns a new set without modifying the original sets."
   ]
  },
  {
   "cell_type": "markdown",
   "id": "940dd7d0-8c83-4d7a-9698-e3e23473c429",
   "metadata": {},
   "source": [
    "Q5. What is a dictionary? Give an example. Also, state whether a dictionary is ordered or unordered."
   ]
  },
  {
   "cell_type": "markdown",
   "id": "185926eb-491b-4aa5-b372-d4e242e6e821",
   "metadata": {},
   "source": [
    "A dictionary in Python is a collection of key-value pairs, where each key is associated with a value. The keys are unique and immutable, while the values can be of any type (such as strings, integers, lists, etc.). Dictionaries are implemented as hash tables in Python, which means they have a very fast look-up time."
   ]
  },
  {
   "cell_type": "code",
   "execution_count": 7,
   "id": "624f4e1a-cab5-460c-8a90-d57610034093",
   "metadata": {},
   "outputs": [
    {
     "name": "stdout",
     "output_type": "stream",
     "text": [
      "{'name': 'John', 'age': 30, 'city': 'New York'}\n",
      "John\n",
      "30\n"
     ]
    }
   ],
   "source": [
    "person = {\"name\": \"John\", \"age\": 30, \"city\": \"New York\"}\n",
    "\n",
    "print(person)\n",
    "print(person[\"name\"])\n",
    "print(person.get(\"age\"))\n"
   ]
  },
  {
   "cell_type": "markdown",
   "id": "9cf22f82-7157-4c14-981f-50bea2b85a72",
   "metadata": {},
   "source": [
    "In the above example, we created a dictionary called person with three key-value pairs. The keys are \"name\", \"age\", and \"city\", and their corresponding values are \"John\", 30, and \"New York\". We printed the entire dictionary, as well as the values associated with the keys \"name\" and \"age\". We used both the square bracket notation and the get() method to access the values.\n",
    "\n",
    "A dictionary in Python is an unordered collection. This means that the items in a dictionary are not stored in any particular order, and the order in which they are displayed may vary. However, starting from Python 3.7, dictionaries in Python preserve the order of insertion of elements. This means that if the keys are inserted in a particular order, the dictionary will maintain the order in which they were inserted."
   ]
  },
  {
   "cell_type": "markdown",
   "id": "9cf1fd14-83cc-42ad-b035-ffe77eec7e4c",
   "metadata": {},
   "source": [
    "Q6. Can we create a nested dictionary? If so, please give an example by creating a simple one-level\n",
    "nested dictionary."
   ]
  },
  {
   "cell_type": "code",
   "execution_count": null,
   "id": "d1705146-555f-4582-8b18-73dfbf8c07cf",
   "metadata": {},
   "outputs": [],
   "source": [
    "yes, we can create nested dictionary"
   ]
  },
  {
   "cell_type": "code",
   "execution_count": 8,
   "id": "360493d5-c8dd-46e5-9279-f5e1adac2e58",
   "metadata": {},
   "outputs": [],
   "source": [
    "person = {\"name\":{\"name\": \"John\", \"age\": 30, \"city\": \"New York\"} , \"age\": 30, \"city\": \"New York\"}\n"
   ]
  },
  {
   "cell_type": "code",
   "execution_count": 10,
   "id": "30807e30-509f-4cfe-8d9c-c68832a57d8c",
   "metadata": {},
   "outputs": [
    {
     "name": "stdout",
     "output_type": "stream",
     "text": [
      "{'name': {'name': 'John', 'age': 30, 'city': 'New York'}, 'age': 30, 'city': 'New York'}\n",
      "{'name': 'John', 'age': 30, 'city': 'New York'}\n",
      "30\n"
     ]
    }
   ],
   "source": [
    "print(person)\n",
    "print(person[\"name\"])\n",
    "print(person[\"name\"][\"age\"])"
   ]
  },
  {
   "cell_type": "markdown",
   "id": "ee98ddc3-57f3-4d8c-a33c-04d0b35362c6",
   "metadata": {},
   "source": [
    "Q7. Using setdefault() method, create key named topics in the given dictionary and also add the value of\n",
    "the key as this list ['Python', 'Machine Learning’, 'Deep Learning']\n",
    "dict1 = {'language' : 'Python', 'course': 'Data Science Masters'}"
   ]
  },
  {
   "cell_type": "code",
   "execution_count": 23,
   "id": "87f12b8f-286d-4c4c-81d1-a8a82e035501",
   "metadata": {},
   "outputs": [
    {
     "data": {
      "text/plain": [
       "{'language': 'Python',\n",
       " 'course': 'Data Science Masters',\n",
       " 'topics': ['Python', 'Machine Learning', 'Deep Learning']}"
      ]
     },
     "execution_count": 23,
     "metadata": {},
     "output_type": "execute_result"
    }
   ],
   "source": [
    "dict1 = {'language' : 'Python', 'course': 'Data Science Masters'}\n",
    "dict1.setdefault(\"topics\", ['Python', 'Machine Learning', 'Deep Learning'])\n",
    "dict1\n",
    "\n"
   ]
  },
  {
   "cell_type": "code",
   "execution_count": 15,
   "id": "88f05069-1093-40a9-88f4-3c83c64b8f31",
   "metadata": {},
   "outputs": [
    {
     "name": "stdout",
     "output_type": "stream",
     "text": [
      "{'language': 'Python', 'course': 'Data Science Masters', 'topics': ['Python', 'Machine Learning', 'Deep Learning']}\n"
     ]
    }
   ],
   "source": [
    "dict1 = {'language': 'Python', 'course': 'Data Science Masters'}\n",
    "dict1.setdefault(\"topics\", ['Python', 'Machine Learning', 'Deep Learning'])\n",
    "\n",
    "print(dict1)\n"
   ]
  },
  {
   "cell_type": "markdown",
   "id": "02b4907f-b324-4b83-a137-2ec767f6a2f8",
   "metadata": {},
   "source": [
    "Q8. What are the three view objects in dictionaries? Use the three in-built methods in python to display\n",
    "these three view objects for the given dictionary.\n",
    "dict1 = {'Sport': 'Cricket' , 'Teams': ['India', 'Australia', 'England', 'South Africa', 'Sri Lanka', 'New Zealand']}"
   ]
  },
  {
   "cell_type": "markdown",
   "id": "5b01ec63-9102-4589-93da-3b8f323ece0b",
   "metadata": {},
   "source": [
    "In Python dictionaries, there are three view objects that provide a dynamic view of the dictionary's keys, values, or key-value pairs. These view objects are:\n",
    "\n",
    "dict_keys: This view object provides a dynamic view of the keys in the dictionary.\n",
    "dict_values: This view object provides a dynamic view of the values in the dictionary.\n",
    "dict_items: This view object provides a dynamic view of the key-value pairs in the dictionary.\n",
    "Here's how we can use the three in-built methods in Python to display these three view objects for the given dictionary dict1:"
   ]
  },
  {
   "cell_type": "code",
   "execution_count": 28,
   "id": "54fc6613-3507-4542-a07f-47465782567e",
   "metadata": {},
   "outputs": [
    {
     "name": "stdout",
     "output_type": "stream",
     "text": [
      "dict_keys(['Sport', 'Teams'])\n",
      "dict_values(['Cricket', ['India', 'Australia', 'England', 'South Africa', 'Sri Lanka', 'New Zealand']])\n",
      "dict_items([('Sport', 'Cricket'), ('Teams', ['India', 'Australia', 'England', 'South Africa', 'Sri Lanka', 'New Zealand'])])\n"
     ]
    }
   ],
   "source": [
    "dict1 = {'Sport': 'Cricket' , 'Teams': ['India', 'Australia', 'England', 'South Africa', 'Sri Lanka', 'New Zealand']}\n",
    "print(dict1.keys())\n",
    "print(dict1.values())\n",
    "print(dict1.items())"
   ]
  },
  {
   "cell_type": "code",
   "execution_count": null,
   "id": "2ea59a62-2272-4b3f-8065-45c3507d2724",
   "metadata": {},
   "outputs": [],
   "source": []
  },
  {
   "cell_type": "markdown",
   "id": "593588f9-7385-4b50-9696-d60b06ddcbb0",
   "metadata": {},
   "source": []
  }
 ],
 "metadata": {
  "kernelspec": {
   "display_name": "Python 3 (ipykernel)",
   "language": "python",
   "name": "python3"
  },
  "language_info": {
   "codemirror_mode": {
    "name": "ipython",
    "version": 3
   },
   "file_extension": ".py",
   "mimetype": "text/x-python",
   "name": "python",
   "nbconvert_exporter": "python",
   "pygments_lexer": "ipython3",
   "version": "3.10.8"
  }
 },
 "nbformat": 4,
 "nbformat_minor": 5
}
